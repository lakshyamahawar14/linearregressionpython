{
 "cells": [
  {
   "cell_type": "markdown",
   "metadata": {},
   "source": [
    "<b>NOTE</b>\n",
    "<br/>\n",
    "In order to import the csv file data, you need to first put the csv file linear_reg_data.csv in the same folder as the notebook and you should change the filepath to the current one. The link to the file is \n",
    "<a href=\"https://study.iitr.ac.in/pluginfile.php/7915/mod_assign/introattachment/0/linear_reg_data.csv?forcedownload=1\">linear_reg_data.csv</a>\n",
    "<br/>\n",
    "Otherwise, comment out the 3, 4, 7, 8 and 9th line from the below Code and hardcode the values of listx and listy from below"
   ]
  },
  {
   "cell_type": "markdown",
   "metadata": {},
   "source": [
    "Below is the code to write the csv file data into two vectors x and y. We get\n",
    "<br/>\n",
    "<br/>\n",
    "<b>listx</b> = [1, 2, 3, 4, 5, 6, 7, 8, 9, 10, 11, 12, 13, 14, 15, 16, 17, 18, 19, 20, 21, 22, 23, 24, 25, 26, 27, 28, 29, 30, 31, 32, 33, 34, 35, 36, 37, 38, 39, 40]\n",
    "<br/>\n",
    "<br/>\n",
    "<b>listy</b> = [6.972540119, 10.42671431, 13.08599394, 15.83065848, 18.26601864, 21.14399452, 23.92408361, 27.61017615, 30.22311501, 33.20807258, 35.39858449, 39.22590985, 41.96644264, 44.22433911, 47.07182497, 49.95140451, 52.95024224, 56.04875643, 58.83394502, 61.57122914, 64.76985289, 67.17549386, 70.20614465, 73.15836184, 76.12606998, 79.33317596, 81.62567378, 84.81823444, 87.77441457, 90.10645041, 93.54554485, 95.98652412, 98.75905159, 102.5208855, 105.415632, 108.1363973, 110.5106138, 113.1816721, 116.646233, 119.2801525] "
   ]
  },
  {
   "cell_type": "code",
   "execution_count": 68,
   "metadata": {},
   "outputs": [],
   "source": [
    "import csv\n",
    "import numpy as np\n",
    "filepath = open('C:\\\\Users\\\\laksh\\\\Python\\\\linear_reg_data.csv', 'r')\n",
    "csvfile = csv.reader(filepath)\n",
    "listx = []\n",
    "listy = []\n",
    "for row in csvfile:\n",
    "    listx.append(int(row[0]))\n",
    "    listy.append(float(row[1]))\n",
    "x = np.array(listx)\n",
    "y = np.array(listy)"
   ]
  },
  {
   "cell_type": "markdown",
   "metadata": {},
   "source": [
    "Defining a function f(x) such as f(x) = a*x + b and initializing a and b for avoiding the warning"
   ]
  },
  {
   "cell_type": "code",
   "execution_count": 69,
   "metadata": {},
   "outputs": [],
   "source": [
    "a = 1\n",
    "b = 1\n",
    "f = np.array(a*x + b)"
   ]
  },
  {
   "cell_type": "markdown",
   "metadata": {},
   "source": [
    "Writing formula code to calculate Mean Square Error (MSE)"
   ]
  },
  {
   "cell_type": "code",
   "execution_count": 70,
   "metadata": {},
   "outputs": [],
   "source": [
    "mse = np.square(np.subtract(y, f)).mean()"
   ]
  },
  {
   "cell_type": "markdown",
   "metadata": {},
   "source": [
    "Now, from here, we can find the co-efficients of the function f(x) by mainly two methods. First, using <b>Least Square Method</b> and second using <b>Gradient Descent Method</b>. \n",
    "<br/>"
   ]
  },
  {
   "cell_type": "markdown",
   "metadata": {},
   "source": [
    "<b>1) Least Square Method</b>\n",
    "<br/>\n",
    "We can find the co-efficients a and b by below formula codes. Calculating for a"
   ]
  },
  {
   "cell_type": "code",
   "execution_count": 71,
   "metadata": {},
   "outputs": [
    {
     "name": "stdout",
     "output_type": "stream",
     "text": [
      "2.877385420664071\n"
     ]
    }
   ],
   "source": [
    "a = (np.mean(x*y) - np.mean(x)*np.mean(y))/(np.mean(np.square(x)) - np.square(np.mean(x)))\n",
    "print(a)"
   ]
  },
  {
   "cell_type": "markdown",
   "metadata": {},
   "source": [
    "Similarly, the value of b can be find by the formula code below"
   ]
  },
  {
   "cell_type": "code",
   "execution_count": 72,
   "metadata": {},
   "outputs": [
    {
     "name": "stdout",
     "output_type": "stream",
     "text": [
      "4.188864498861548\n"
     ]
    }
   ],
   "source": [
    "b = np.mean(y) - a*np.mean(x)\n",
    "print(b)"
   ]
  },
  {
   "cell_type": "markdown",
   "metadata": {},
   "source": [
    "Hence, the co-efficients of regression line are a = 2.87738 and b = 4.18886Thus. Using the regression line, MSE is found out to be mse = 0.08529. The same can be found by the code below"
   ]
  },
  {
   "cell_type": "code",
   "execution_count": 73,
   "metadata": {},
   "outputs": [
    {
     "name": "stdout",
     "output_type": "stream",
     "text": [
      "0.08519353981129221\n"
     ]
    }
   ],
   "source": [
    "mse = np.square(np.subtract(y, a*x + b)).mean()\n",
    "print(mse)"
   ]
  },
  {
   "cell_type": "markdown",
   "metadata": {},
   "source": [
    "The scatter plot of the given data sets and the calculated regression line can be plotted using these lines of code"
   ]
  },
  {
   "cell_type": "code",
   "execution_count": 74,
   "metadata": {},
   "outputs": [
    {
     "data": {
      "image/png": "[encoded data removed]",
      "text/plain": [
       "<Figure size 432x288 with 1 Axes>"
      ]
     },
     "metadata": {
      "needs_background": "light"
     },
     "output_type": "display_data"
    }
   ],
   "source": [
    "from matplotlib import pyplot as plt\n",
    "plt.xlabel('X')\n",
    "plt.ylabel('Y')\n",
    "plt.xlim([0, max(x)])\n",
    "plt.ylim([0, max(y)+1])\n",
    "plt.scatter(listx, listy, s=25, c='red', label='y')\n",
    "x = np.linspace(0, 40)\n",
    "y = a*x+b\n",
    "plt.plot(x, y, '-b', label='f(x)=a*x+b')\n",
    "plt.tight_layout()\n",
    "plt.legend()\n",
    "plt.show()"
   ]
  },
  {
   "cell_type": "markdown",
   "metadata": {},
   "source": [
    "By observing the plot, we can say that our Least Square Method pretty much gives a close function for the given dataset"
   ]
  },
  {
   "cell_type": "markdown",
   "metadata": {},
   "source": [
    "<b>2) Gradient Descent Method </b>"
   ]
  },
  {
   "cell_type": "markdown",
   "metadata": {},
   "source": [
    "In this method, we define a cost function J(a_0, a_1) = [sigma(hi - yi)^2]/2n for h = a_0 + a_1*x. Then we take a step from the current values of a_0 and a_1 and analyze how far we should go until we get the closest possible value. The formulas for a_0 and a_1 are given by \n",
    "<br/>\n",
    "a_0 = a_0 - (alfa)[sigma(hi - yi)]/n\n",
    "<br/>\n",
    "a_1 = a_1 - X(alfa)[sigma(hi - yi)]/n\n",
    "<br/>\n",
    "We can observe here that this term is similar as we could get by taking partial derivative of MSE wrt a and b in our first method. The code for the above formulas will be\n"
   ]
  },
  {
   "cell_type": "code",
   "execution_count": 75,
   "metadata": {},
   "outputs": [],
   "source": [
    "a = [0, 0]\n",
    "def h(a, X):\n",
    "    return a[0] + a[1]*X\n",
    "def costFunc(a, X, y):\n",
    "    return (1/2)*np.square(h(a, X) - y).mean()"
   ]
  },
  {
   "cell_type": "markdown",
   "metadata": {},
   "source": [
    "Defining the gradient descent function gradDesc to calculate how much we should move with help of alfa and epoch variables"
   ]
  },
  {
   "cell_type": "code",
   "execution_count": 76,
   "metadata": {},
   "outputs": [],
   "source": [
    "n = len(x)\n",
    "def gradDesc(a, X, y, epoch, alpha):\n",
    "    cost = []\n",
    "    i = 0\n",
    "    while i < epoch:\n",
    "        hx = h(a, X)\n",
    "        a[0] -= alpha*(np.sum(hx - y)/n)\n",
    "        a[1] -= (alpha * np.sum((hx - y) * X))/n\n",
    "        cost.append(costFunc(a, X, y))\n",
    "        i += 1\n",
    "    return a, cost"
   ]
  },
  {
   "cell_type": "markdown",
   "metadata": {},
   "source": [
    "Now we will create a function to predict the value of h using the gradient descent function define above"
   ]
  },
  {
   "cell_type": "code",
   "execution_count": 77,
   "metadata": {},
   "outputs": [],
   "source": [
    "def predict(a, X, y, epoch, alpha):\n",
    "    a, cost = gradDesc(a, X, y, epoch, alpha)\n",
    "    return h(a, X), cost, a"
   ]
  },
  {
   "cell_type": "markdown",
   "metadata": {},
   "source": [
    "Now, for a very small amount of step alpha = 0.001, using the predict function we can find h, cost and updated values of a[0] and a[1]. We make the prediction for epoch = 1000 (thousand iterations). The code for the same is below"
   ]
  },
  {
   "cell_type": "code",
   "execution_count": 78,
   "metadata": {},
   "outputs": [],
   "source": [
    "predY, cost, a = predict(a, x, y, 1000, 0.001)"
   ]
  },
  {
   "cell_type": "markdown",
   "metadata": {},
   "source": [
    "Now, using matplotlib library, we can plot the data"
   ]
  },
  {
   "cell_type": "code",
   "execution_count": 84,
   "metadata": {},
   "outputs": [
    {
     "data": {
      "image/png": "[encoded data removed]",
      "text/plain": [
       "<Figure size 432x288 with 1 Axes>"
      ]
     },
     "metadata": {
      "needs_background": "light"
     },
     "output_type": "display_data"
    }
   ],
   "source": [
    "plt.scatter(x, y, label = 'Y - original', s=15, c='red')\n",
    "plt.scatter(x, predY, label = 'Y - predicted', s=15, c='blue')\n",
    "plt.xlabel('X')\n",
    "plt.ylabel('Y')\n",
    "plt.tight_layout()\n",
    "plt.legend()\n",
    "plt.show()"
   ]
  },
  {
   "cell_type": "markdown",
   "metadata": {},
   "source": [
    "Here, predicted output is similar as the f(x) function we got in our first method. Instead of plotting discrete points, we can plot the straight line as follows"
   ]
  },
  {
   "cell_type": "code",
   "execution_count": 80,
   "metadata": {},
   "outputs": [
    {
     "data": {
      "image/png": "[encoded data removed]",
      "text/plain": [
       "<Figure size 432x288 with 1 Axes>"
      ]
     },
     "metadata": {
      "needs_background": "light"
     },
     "output_type": "display_data"
    }
   ],
   "source": [
    "plt.xlim([0, max(x)])\n",
    "plt.ylim([0, max(y)+1])\n",
    "plt.scatter(x, y, label = 'Y - original', s=15, c='red')\n",
    "plt.plot(x, predY, '-b', label='h = a_0 + a_1*x')\n",
    "plt.xlabel('X')\n",
    "plt.ylabel('Y')\n",
    "plt.tight_layout()\n",
    "plt.legend()\n",
    "plt.show()"
   ]
  },
  {
   "cell_type": "markdown",
   "metadata": {},
   "source": [
    "Hence, we get our coefficients a_0 and a_1 as"
   ]
  },
  {
   "cell_type": "code",
   "execution_count": 81,
   "metadata": {},
   "outputs": [
    {
     "name": "stdout",
     "output_type": "stream",
     "text": [
      "1.037124000815103\n",
      "2.994437731126289\n"
     ]
    }
   ],
   "source": [
    "print(a[0])\n",
    "print(a[1])"
   ]
  },
  {
   "cell_type": "markdown",
   "metadata": {},
   "source": [
    "The MSE can be calculated as "
   ]
  },
  {
   "cell_type": "code",
   "execution_count": 82,
   "metadata": {},
   "outputs": [
    {
     "name": "stdout",
     "output_type": "stream",
     "text": [
      "2.5586222710166355\n"
     ]
    }
   ],
   "source": [
    "mse = np.square(np.subtract(y, a[0] + a[1]*x)).mean()\n",
    "print(mse)"
   ]
  }
 ],
 "metadata": {
  "kernelspec": {
   "display_name": "Python 3.10.5 64-bit",
   "language": "python",
   "name": "python3"
  },
  "language_info": {
   "codemirror_mode": {
    "name": "ipython",
    "version": 3
   },
   "file_extension": ".py",
   "mimetype": "text/x-python",
   "name": "python",
   "nbconvert_exporter": "python",
   "pygments_lexer": "ipython3",
   "version": "3.10.5"
  },
  "vscode": {
   "interpreter": {
    "hash": "756c4c8cb8d2da3b6b4383a5b5c83f789d93271e7736f3f4b9a7f4247e6a8991"
   }
  }
 },
 "nbformat": 4,
 "nbformat_minor": 2
}
